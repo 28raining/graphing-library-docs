{
 "cells": [
  {
   "cell_type": "markdown",
   "source": [
    "In this notebook, we introduce survival analysis and we show application examples using both R and Python. We will compare the two programming languages, and leverage Plotly's Python and R APIs to convert static graphics into interactive `plotly` objects.\n",
    "\n",
    "[Plotly](https://plotly.com) is a platform for making interactive graphs with R, Python, MATLAB, and Excel. You can make graphs and analyze data on Plotly’s free public cloud. For collaboration and sensitive data, you can run Plotly [on your own servers](https://plotly.com/product/enterprise/).\n",
    "\n",
    "For a more in-depth theoretical background in survival analysis, please refer to these sources:\n",
    "\n",
    "- [Lecture Notes by John Fox](http://socserv.mcmaster.ca/jfox/Courses/soc761/survival-analysis.pdf)\n",
    "- [Wikipedia article](http://en.wikipedia.org/wiki/Survival_analysis)\n",
    "- [Presentation by Kristin Sainani](www.pitt.edu/~super4/33011-34001/33051-33061.ppt)\n",
    "- [Lecture Notes by Germán Rodríguez](http://data.princeton.edu/wws509/notes/c7.pdf)\n",
    "\n",
    "Need help converting Plotly graphs from R or Python?\n",
    "- [R](https://plotly.com/r/user-guide/)\n",
    "- [Python](https://plotly.com/python/matplotlib-to-plotly-tutorial/)\n",
    "\n",
    "For this code to run on your machine, you will need several R and Python packages installed.\n",
    "\n",
    "- Running `sudo pip install <package_name>` from your terminal will install a Python package.\n",
    "\n",
    "- Running `install.packages(\"<package_name>\")` in your R console will install an R package.\n",
    "\n",
    "You will also need to create an account with [Plotly](https://plotly.com/feed/) to receive your API key."
   ],
   "metadata": {}
  },
  {
   "cell_type": "code",
   "execution_count": 1,
   "source": [
    "# You can also install packages from within IPython!\r\n",
    "\r\n",
    "# Install Python Packages\r\n",
    "!pip install lifelines\r\n",
    "!pip install rpy2\r\n",
    "!pip install plotly\r\n",
    "!pip install pandas\r\n",
    "\r\n",
    "# Load extension that let us use magic function `%R`\r\n",
    "%load_ext rpy2.ipython\r\n",
    "\r\n",
    "# Install R packages\r\n",
    "%R install.packages(\"devtools\")\r\n",
    "%R devtools::install_github(\"plotly/plotly.R\")\r\n",
    "%R install.packages(\"OIsurv\")"
   ],
   "outputs": [],
   "metadata": {
    "collapsed": true
   }
  },
  {
   "cell_type": "markdown",
   "source": [
    "## Introduction"
   ],
   "metadata": {}
  },
  {
   "cell_type": "markdown",
   "source": [
    "[Survival analysis](http://en.wikipedia.org/wiki/Survival_analysis) is a set of statistical methods for analyzing the occurrence  of events over time. It is also used to determine the relationship of co-variates to the time-to-events, and accurately compare time-to-event between two or more groups. For example:\n",
    "\n",
    "- Time to death in biological systems.\n",
    "- Failure time in mechanical systems.\n",
    "- How long can we expect a user to be on a website / service?\n",
    "- Time to recovery for lung cancer treatment.\n",
    "\n",
    "The statistical term 'survival analysis' is analogous to 'reliability theory' in engineering, 'duration analysis' in economics, and 'event history analysis' in sociology."
   ],
   "metadata": {}
  },
  {
   "cell_type": "markdown",
   "source": [
    "The two key functions in survival analysis are the *survival function* and the *hazard function*.\n",
    "\n",
    "The **survival function**, conventionally denoted by $S$, is the probability that the event (say, death) has not occurred yet:\n",
    "\n",
    "$$S(t) = Pr(T > t),$$\n",
    "\n",
    "where $T$ denotes the time of death and $Pr$ the probability. Since $S$ is a probability, $0\\leq S(t)\\leq1$. Survival times are non-negative ($T \\geq 0$) and, generally, $S(0) = 1$.\n",
    "\n",
    "\n",
    "The **hazard function** $h(t)$ is the event (death) rate at time $t$, conditional on survival until $t$ (i.e., $T \\geq t$):\n",
    "\n",
    "\\begin{align*}\n",
    "h(t) &= \\lim_{\\Delta t \\to 0} Pr(t \\leq T \\leq t + \\Delta t \\, | \\, T \\geq t) \\\\\n",
    "     &= \\lim_{\\Delta t \\to 0} \\frac{Pr(t \\leq T \\leq t + \\Delta t)}{S(t)} = \\frac{p(t)}{S(t)},\n",
    "\\end{align*}\n",
    "\n",
    "where $p$ denotes the probability density function.\n",
    "\n",
    "In practice, we do not get to observe the actual survival function of a population; we must use the observed data to estimate it. A popular estimate for the survival function $S(t)$ is the [Kaplan–Meier estimate](http://en.wikipedia.org/wiki/Kaplan–Meier_estimator):\n",
    "\n",
    "\\begin{align*}\n",
    "\\hat{S}(t) &= \\prod_{t_i \\leq t} \\frac{n_i − d_i}{n_i}\\,,\n",
    "\\end{align*}\n",
    "\n",
    "where $d_i$ is the number of events (deaths) observed at time $t_i$ and $n_i$ is the number of subjects at risk observed at time $t_i$."
   ],
   "metadata": {}
  },
  {
   "cell_type": "markdown",
   "source": [
    "## Censoring"
   ],
   "metadata": {}
  },
  {
   "cell_type": "markdown",
   "source": [
    "Censoring is a type of missing data problem common in survival analysis. Other popular comparison methods, such as linear regression and t-tests do not accommodate for censoring. This makes survival analysis attractive for data from randomized clinical studies. \n",
    "\n",
    "In an ideal scenario, both the birth and death rates of a patient is known, which means the lifetime is known.\n",
    "\n",
    "**Right censoring** occurs when the 'death' is unknown, but it is after some known date. e.g. The 'death' occurs after the end of the study, or there was no follow-up with the patient.\n",
    "\n",
    "**Left censoring** occurs when the lifetime is known to be less than a certain duration. e.g. Unknown time of initial infection exposure when first meeting with a patient.\n",
    "\n",
    "<hr>"
   ],
   "metadata": {}
  },
  {
   "cell_type": "markdown",
   "source": [
    "For following analysis, we will use the [lifelines](https://github.com/CamDavidsonPilon/lifelines) library for python, and the [survival](http://cran.r-project.org/web/packages/survival/survival.pdf) package for R. We can use [rpy2](http://rpy.sourceforge.net) to execute R code in the same document as the python code.\n",
    "\n"
   ],
   "metadata": {}
  },
  {
   "cell_type": "code",
   "execution_count": 2,
   "source": [
    "# OIserve contains the survival package and sample datasets\n",
    "%R library(OIsurv)\n",
    "%R library(devtools)\n",
    "%R library(plotly)\n",
    "%R library(IRdisplay)\n",
    "\n",
    "# Authenticate to plotly's api using your account\n",
    "%R py <- plotly(\"rmdk\", \"0sn825k4r8\")\n",
    "\n",
    "# Load python libraries\n",
    "import numpy as np\n",
    "import pandas as pd\n",
    "import lifelines as ll\n",
    "\n",
    "# Plotting helpers\n",
    "from IPython.display import HTML\n",
    "%matplotlib inline\n",
    "import matplotlib.pyplot as plt\n",
    "import plotly.plotly as py\n",
    "import plotly.tools as tls   \n",
    "from plotly.graph_objs import *\n",
    "\n",
    "from pylab import rcParams\n",
    "rcParams['figure.figsize']=10, 5"
   ],
   "outputs": [
    {
     "output_type": "display_data",
     "data": {
      "text/plain": [
       "Loading required package: survival\n",
       "Loading required package: KMsurv\n"
      ]
     },
     "metadata": {}
    },
    {
     "output_type": "display_data",
     "data": {
      "text/plain": [
       "Loading required package: RCurl\n",
       "Loading required package: bitops\n",
       "Loading required package: RJSONIO\n",
       "Loading required package: ggplot2\n"
      ]
     },
     "metadata": {}
    }
   ],
   "metadata": {}
  },
  {
   "cell_type": "markdown",
   "source": [
    "## Loading data into Python and R\n",
    "\n",
    "We will be using the `tongue` dataset from the `KMsurv` package in R, then convert the data into a pandas dataframe under the same name.\n",
    "\n",
    "\n",
    "This data frame contains the following columns:\n",
    "\n",
    "- type: Tumor DNA profile (1=Aneuploid Tumor, 2=Diploid Tumor) \n",
    "- time: Time to death or on-study time, weeks\n",
    "- delta Death indicator (0=alive, 1=dead)"
   ],
   "metadata": {}
  },
  {
   "cell_type": "code",
   "execution_count": 3,
   "source": [
    "# Load in data\n",
    "%R data(tongue)\n",
    "# Pull data into python kernel\n",
    "%Rpull tongue\n",
    "# Convert into pandas dataframe\n",
    "from rpy2.robjects import pandas2ri\n",
    "\n",
    "tongue = pandas2ri.ri2py_dataframe(tongue)"
   ],
   "outputs": [],
   "metadata": {
    "collapsed": true
   }
  },
  {
   "cell_type": "markdown",
   "source": [
    "We can now refer to `tongue` using both R and python."
   ],
   "metadata": {}
  },
  {
   "cell_type": "code",
   "execution_count": 4,
   "source": [
    "%%R \n",
    "summary(tongue)"
   ],
   "outputs": [
    {
     "output_type": "display_data",
     "data": {
      "text/plain": [
       "      type           time            delta       \n",
       " Min.   :1.00   Min.   :  1.00   Min.   :0.0000  \n",
       " 1st Qu.:1.00   1st Qu.: 23.75   1st Qu.:0.0000  \n",
       " Median :1.00   Median : 69.50   Median :1.0000  \n",
       " Mean   :1.35   Mean   : 73.83   Mean   :0.6625  \n",
       " 3rd Qu.:2.00   3rd Qu.:101.75   3rd Qu.:1.0000  \n",
       " Max.   :2.00   Max.   :400.00   Max.   :1.0000  \n"
      ]
     },
     "metadata": {}
    }
   ],
   "metadata": {}
  },
  {
   "cell_type": "code",
   "execution_count": 5,
   "source": [
    "tongue.describe()"
   ],
   "outputs": [
    {
     "output_type": "execute_result",
     "data": {
      "text/html": [
       "<div style=\"max-height:1000px;max-width:1500px;overflow:auto;\">\n",
       "<table border=\"1\" class=\"dataframe\">\n",
       "  <thead>\n",
       "    <tr style=\"text-align: right;\">\n",
       "      <th></th>\n",
       "      <th>type</th>\n",
       "      <th>time</th>\n",
       "      <th>delta</th>\n",
       "    </tr>\n",
       "  </thead>\n",
       "  <tbody>\n",
       "    <tr>\n",
       "      <th>count</th>\n",
       "      <td>80.000000</td>\n",
       "      <td>80.000000</td>\n",
       "      <td>80.00000</td>\n",
       "    </tr>\n",
       "    <tr>\n",
       "      <th>mean</th>\n",
       "      <td>1.350000</td>\n",
       "      <td>73.825000</td>\n",
       "      <td>0.66250</td>\n",
       "    </tr>\n",
       "    <tr>\n",
       "      <th>std</th>\n",
       "      <td>0.479979</td>\n",
       "      <td>67.263091</td>\n",
       "      <td>0.47584</td>\n",
       "    </tr>\n",
       "    <tr>\n",
       "      <th>min</th>\n",
       "      <td>1.000000</td>\n",
       "      <td>1.000000</td>\n",
       "      <td>0.00000</td>\n",
       "    </tr>\n",
       "    <tr>\n",
       "      <th>25%</th>\n",
       "      <td>1.000000</td>\n",
       "      <td>23.750000</td>\n",
       "      <td>0.00000</td>\n",
       "    </tr>\n",
       "    <tr>\n",
       "      <th>50%</th>\n",
       "      <td>1.000000</td>\n",
       "      <td>69.500000</td>\n",
       "      <td>1.00000</td>\n",
       "    </tr>\n",
       "    <tr>\n",
       "      <th>75%</th>\n",
       "      <td>2.000000</td>\n",
       "      <td>101.750000</td>\n",
       "      <td>1.00000</td>\n",
       "    </tr>\n",
       "    <tr>\n",
       "      <th>max</th>\n",
       "      <td>2.000000</td>\n",
       "      <td>400.000000</td>\n",
       "      <td>1.00000</td>\n",
       "    </tr>\n",
       "  </tbody>\n",
       "</table>\n",
       "</div>"
      ],
      "text/plain": [
       "            type        time     delta\n",
       "count  80.000000   80.000000  80.00000\n",
       "mean    1.350000   73.825000   0.66250\n",
       "std     0.479979   67.263091   0.47584\n",
       "min     1.000000    1.000000   0.00000\n",
       "25%     1.000000   23.750000   0.00000\n",
       "50%     1.000000   69.500000   1.00000\n",
       "75%     2.000000  101.750000   1.00000\n",
       "max     2.000000  400.000000   1.00000"
      ]
     },
     "metadata": {},
     "execution_count": 5
    }
   ],
   "metadata": {}
  },
  {
   "cell_type": "markdown",
   "source": [
    "We can even operate on R and Python within the same code cell."
   ],
   "metadata": {}
  },
  {
   "cell_type": "code",
   "execution_count": 6,
   "source": [
    "%R print(mean(tongue$time))\n",
    "\n",
    "print tongue['time'].mean()"
   ],
   "outputs": [
    {
     "output_type": "display_data",
     "data": {
      "text/plain": [
       "[1] 73.825\n"
      ]
     },
     "metadata": {}
    },
    {
     "output_type": "stream",
     "name": "stdout",
     "text": [
      "73.825\n"
     ]
    }
   ],
   "metadata": {}
  },
  {
   "cell_type": "markdown",
   "source": [
    "In R we need to create a `Surv` object with the `Surv()` function. Most functions in the `survival` package apply methods to this object. For right-censored data, we need to pass two arguments to `Surv()`:\n",
    "\n",
    "1. a vector of times\n",
    "2. a vector indicating which times are observed and censored"
   ],
   "metadata": {}
  },
  {
   "cell_type": "code",
   "execution_count": 7,
   "source": [
    "%%R\n",
    "attach(tongue)\n",
    "\n",
    "tongue.surv <- Surv(time[type==1], delta[type==1])\n",
    "\n",
    "tongue.surv"
   ],
   "outputs": [
    {
     "output_type": "display_data",
     "data": {
      "text/plain": [
       " [1]   1    3    3    4   10   13   13   16   16   24   26   27   28   30   30 \n",
       "[16]  32   41   51   65   67   70   72   73   77   91   93   96  100  104  157 \n",
       "[31] 167   61+  74+  79+  80+  81+  87+  87+  88+  89+  93+  97+ 101+ 104+ 108+\n",
       "[46] 109+ 120+ 131+ 150+ 231+ 240+ 400+\n"
      ]
     },
     "metadata": {}
    }
   ],
   "metadata": {}
  },
  {
   "cell_type": "markdown",
   "source": [
    "- The plus-signs identify observations that are right-censored."
   ],
   "metadata": {}
  },
  {
   "cell_type": "markdown",
   "source": [
    "# Estimating survival with Kaplan-Meier\n",
    "\n",
    "### Using R"
   ],
   "metadata": {}
  },
  {
   "cell_type": "markdown",
   "source": [
    "The simplest fit estimates a survival object against an intercept. However, the `survfit()` function has several optional arguments. For example, we can change the confidence interval using `conf.int` and `conf.type`. \n",
    "\n",
    "See `help(survfit.formula)` for the comprehensive documentation."
   ],
   "metadata": {}
  },
  {
   "cell_type": "code",
   "execution_count": 8,
   "source": [
    "%%R\n",
    "surv.fit <- survfit(tongue.surv~1)\n",
    "surv.fit"
   ],
   "outputs": [
    {
     "output_type": "display_data",
     "data": {
      "text/plain": [
       "Call: survfit(formula = tongue.surv ~ 1)\n",
       "\n",
       "records   n.max n.start  events  median 0.95LCL 0.95UCL \n",
       "     52      52      52      31      93      67      NA \n"
      ]
     },
     "metadata": {}
    }
   ],
   "metadata": {}
  },
  {
   "cell_type": "markdown",
   "source": [
    "It is often helpful to call the `summary()` and `plot()` functions on this object."
   ],
   "metadata": {}
  },
  {
   "cell_type": "code",
   "execution_count": 9,
   "source": [
    "%%R \n",
    "summary(surv.fit)"
   ],
   "outputs": [
    {
     "output_type": "display_data",
     "data": {
      "text/plain": [
       "Call: survfit(formula = tongue.surv ~ 1)\n",
       "\n",
       " time n.risk n.event survival std.err lower 95% CI upper 95% CI\n",
       "    1     52       1    0.981  0.0190        0.944        1.000\n",
       "    3     51       2    0.942  0.0323        0.881        1.000\n",
       "    4     49       1    0.923  0.0370        0.853        0.998\n",
       "   10     48       1    0.904  0.0409        0.827        0.988\n",
       "   13     47       2    0.865  0.0473        0.777        0.963\n",
       "   16     45       2    0.827  0.0525        0.730        0.936\n",
       "   24     43       1    0.808  0.0547        0.707        0.922\n",
       "   26     42       1    0.788  0.0566        0.685        0.908\n",
       "   27     41       1    0.769  0.0584        0.663        0.893\n",
       "   28     40       1    0.750  0.0600        0.641        0.877\n",
       "   30     39       2    0.712  0.0628        0.598        0.846\n",
       "   32     37       1    0.692  0.0640        0.578        0.830\n",
       "   41     36       1    0.673  0.0651        0.557        0.813\n",
       "   51     35       1    0.654  0.0660        0.537        0.797\n",
       "   65     33       1    0.634  0.0669        0.516        0.780\n",
       "   67     32       1    0.614  0.0677        0.495        0.762\n",
       "   70     31       1    0.594  0.0683        0.475        0.745\n",
       "   72     30       1    0.575  0.0689        0.454        0.727\n",
       "   73     29       1    0.555  0.0693        0.434        0.709\n",
       "   77     27       1    0.534  0.0697        0.414        0.690\n",
       "   91     19       1    0.506  0.0715        0.384        0.667\n",
       "   93     18       1    0.478  0.0728        0.355        0.644\n",
       "   96     16       1    0.448  0.0741        0.324        0.620\n",
       "  100     14       1    0.416  0.0754        0.292        0.594\n",
       "  104     12       1    0.381  0.0767        0.257        0.566\n",
       "  157      5       1    0.305  0.0918        0.169        0.550\n",
       "  167      4       1    0.229  0.0954        0.101        0.518\n"
      ]
     },
     "metadata": {}
    }
   ],
   "metadata": {}
  },
  {
   "cell_type": "code",
   "execution_count": 10,
   "source": [
    "%%R -h 400\n",
    "plot(surv.fit, main='Kaplan-Meier estimate with 95% confidence bounds',\n",
    "    xlab='time', ylab='survival function')"
   ],
   "outputs": [
    {
     "output_type": "display_data",
     "data": {
      "image/png": "[encoded data removed]"
     },
     "metadata": {}
    }
   ],
   "metadata": {
    "scrolled": true
   }
  },
  {
   "cell_type": "markdown",
   "source": [
    "Let's convert this plot into an interactive plotly object using [plotly](https://plotly.com) and [ggplot2](http://ggplot2.org). \n",
    "\n",
    "First, we will use a helper ggplot function written by [Edwin Thoen](http://www.r-statistics.com/2013/07/creating-good-looking-survival-curves-the-ggsurv-function/) to plot pretty survival distributions in R. "
   ],
   "metadata": {}
  },
  {
   "cell_type": "code",
   "execution_count": 11,
   "source": [
    "%%R\n",
    "\n",
    "ggsurv <- function(s, CI = 'def', plot.cens = T, surv.col = 'gg.def',\n",
    "                   cens.col = 'red', lty.est = 1, lty.ci = 2,\n",
    "                   cens.shape = 3, back.white = F, xlab = 'Time',\n",
    "                   ylab = 'Survival', main = ''){\n",
    " \n",
    "  library(ggplot2)\n",
    "  strata <- ifelse(is.null(s$strata) ==T, 1, length(s$strata))\n",
    "  stopifnot(length(surv.col) == 1 | length(surv.col) == strata)\n",
    "  stopifnot(length(lty.est) == 1 | length(lty.est) == strata)\n",
    " \n",
    "  ggsurv.s <- function(s, CI = 'def', plot.cens = T, surv.col = 'gg.def',\n",
    "                       cens.col = 'red', lty.est = 1, lty.ci = 2,\n",
    "                       cens.shape = 3, back.white = F, xlab = 'Time',\n",
    "                       ylab = 'Survival', main = ''){\n",
    " \n",
    "    dat <- data.frame(time = c(0, s$time),\n",
    "                      surv = c(1, s$surv),\n",
    "                      up = c(1, s$upper),\n",
    "                      low = c(1, s$lower),\n",
    "                      cens = c(0, s$n.censor))\n",
    "    dat.cens <- subset(dat, cens != 0)\n",
    " \n",
    "    col <- ifelse(surv.col == 'gg.def', 'black', surv.col)\n",
    " \n",
    "    pl <- ggplot(dat, aes(x = time, y = surv)) +\n",
    "      xlab(xlab) + ylab(ylab) + ggtitle(main) +\n",
    "      geom_step(col = col, lty = lty.est)\n",
    " \n",
    "    pl <- if(CI == T | CI == 'def') {\n",
    "      pl + geom_step(aes(y = up), color = col, lty = lty.ci) +\n",
    "        geom_step(aes(y = low), color = col, lty = lty.ci)\n",
    "    } else (pl)\n",
    " \n",
    "    pl <- if(plot.cens == T & length(dat.cens) > 0){\n",
    "      pl + geom_point(data = dat.cens, aes(y = surv), shape = cens.shape,\n",
    "                       col = cens.col)\n",
    "    } else if (plot.cens == T & length(dat.cens) == 0){\n",
    "      stop ('There are no censored observations')\n",
    "    } else(pl)\n",
    " \n",
    "    pl <- if(back.white == T) {pl + theme_bw()\n",
    "    } else (pl)\n",
    "    pl\n",
    "  }\n",
    " \n",
    "  ggsurv.m <- function(s, CI = 'def', plot.cens = T, surv.col = 'gg.def',\n",
    "                       cens.col = 'red', lty.est = 1, lty.ci = 2,\n",
    "                       cens.shape = 3, back.white = F, xlab = 'Time',\n",
    "                       ylab = 'Survival', main = '') {\n",
    "    n <- s$strata\n",
    " \n",
    "    groups <- factor(unlist(strsplit(names\n",
    "                                     (s$strata), '='))[seq(2, 2*strata, by = 2)])\n",
    "    gr.name <-  unlist(strsplit(names(s$strata), '='))[1]\n",
    "    gr.df <- vector('list', strata)\n",
    "    ind <- vector('list', strata)\n",
    "    n.ind <- c(0,n); n.ind <- cumsum(n.ind)\n",
    "    for(i in 1:strata) ind[[i]] <- (n.ind[i]+1):n.ind[i+1]\n",
    " \n",
    "    for(i in 1:strata){\n",
    "      gr.df[[i]] <- data.frame(\n",
    "        time = c(0, s$time[ ind[[i]] ]),\n",
    "        surv = c(1, s$surv[ ind[[i]] ]),\n",
    "        up = c(1, s$upper[ ind[[i]] ]),\n",
    "        low = c(1, s$lower[ ind[[i]] ]),\n",
    "        cens = c(0, s$n.censor[ ind[[i]] ]),\n",
    "        group = rep(groups[i], n[i] + 1))\n",
    "    }\n",
    " \n",
    "    dat <- do.call(rbind, gr.df)\n",
    "    dat.cens <- subset(dat, cens != 0)\n",
    " \n",
    "    pl <- ggplot(dat, aes(x = time, y = surv, group = group)) +\n",
    "      xlab(xlab) + ylab(ylab) + ggtitle(main) +\n",
    "      geom_step(aes(col = group, lty = group))\n",
    " \n",
    "    col <- if(length(surv.col == 1)){\n",
    "      scale_colour_manual(name = gr.name, values = rep(surv.col, strata))\n",
    "    } else{\n",
    "      scale_colour_manual(name = gr.name, values = surv.col)\n",
    "    }\n",
    " \n",
    "    pl <- if(surv.col[1] != 'gg.def'){\n",
    "      pl + col\n",
    "    } else {pl + scale_colour_discrete(name = gr.name)}\n",
    " \n",
    "    line <- if(length(lty.est) == 1){\n",
    "      scale_linetype_manual(name = gr.name, values = rep(lty.est, strata))\n",
    "    } else {scale_linetype_manual(name = gr.name, values = lty.est)}\n",
    " \n",
    "    pl <- pl + line\n",
    " \n",
    "    pl <- if(CI == T) {\n",
    "      if(length(surv.col) > 1 && length(lty.est) > 1){\n",
    "        stop('Either surv.col or lty.est should be of length 1 in order\n",
    "             to plot 95% CI with multiple strata')\n",
    "      }else if((length(surv.col) > 1 | surv.col == 'gg.def')[1]){\n",
    "        pl + geom_step(aes(y = up, color = group), lty = lty.ci) +\n",
    "          geom_step(aes(y = low, color = group), lty = lty.ci)\n",
    "      } else{pl +  geom_step(aes(y = up, lty = group), col = surv.col) +\n",
    "               geom_step(aes(y = low,lty = group), col = surv.col)}\n",
    "    } else {pl}\n",
    " \n",
    " \n",
    "    pl <- if(plot.cens == T & length(dat.cens) > 0){\n",
    "      pl + geom_point(data = dat.cens, aes(y = surv), shape = cens.shape,\n",
    "                      col = cens.col)\n",
    "    } else if (plot.cens == T & length(dat.cens) == 0){\n",
    "      stop ('There are no censored observations')\n",
    "    } else(pl)\n",
    " \n",
    "    pl <- if(back.white == T) {pl + theme_bw()\n",
    "    } else (pl)\n",
    "    pl\n",
    "  }\n",
    "  pl <- if(strata == 1) {ggsurv.s(s, CI , plot.cens, surv.col ,\n",
    "                                  cens.col, lty.est, lty.ci,\n",
    "                                  cens.shape, back.white, xlab,\n",
    "                                  ylab, main)\n",
    "  } else {ggsurv.m(s, CI, plot.cens, surv.col ,\n",
    "                   cens.col, lty.est, lty.ci,\n",
    "                   cens.shape, back.white, xlab,\n",
    "                   ylab, main)}\n",
    "  pl\n",
    "}"
   ],
   "outputs": [],
   "metadata": {
    "collapsed": true
   }
  },
  {
   "cell_type": "markdown",
   "source": [
    "Voila!"
   ],
   "metadata": {}
  },
  {
   "cell_type": "code",
   "execution_count": 12,
   "source": [
    "%%R -h 400\n",
    "p <- ggsurv(surv.fit) + theme_bw()\n",
    "p"
   ],
   "outputs": [
    {
     "output_type": "display_data",
     "data": {
      "image/png": "[encoded data removed]"
     },
     "metadata": {}
    }
   ],
   "metadata": {
    "scrolled": true
   }
  },
  {
   "cell_type": "markdown",
   "source": [
    "We have to use a workaround to render an interactive plotly object by using an iframe in the ipython kernel. This is a bit easier if you are working in an R kernel."
   ],
   "metadata": {}
  },
  {
   "cell_type": "code",
   "execution_count": 13,
   "source": [
    "%%R\n",
    "# Create the iframe HTML\n",
    "plot.ly <- function(url) {\n",
    "    # Set width and height from options or default square\n",
    "    w <- \"750\"\n",
    "    h <- \"600\"\n",
    "    html <- paste(\"<center><iframe height=\\\"\", h, \"\\\" id=\\\"igraph\\\" scrolling=\\\"no\\\" seamless=\\\"seamless\\\"\\n\\t\\t\\t\\tsrc=\\\"\", \n",
    "        url, \"\\\" width=\\\"\", w, \"\\\" frameBorder=\\\"0\\\"></iframe></center>\", sep=\"\")\n",
    "    return(html)\n",
    "}"
   ],
   "outputs": [],
   "metadata": {
    "collapsed": true
   }
  },
  {
   "cell_type": "code",
   "execution_count": 14,
   "source": [
    "%R p <- plot.ly(\"https://plotly.com/~rmdk/111/survival-vs-time/\")\n",
    "# pass object to python kernel\n",
    "%R -o p \n",
    "\n",
    "# Render HTML\n",
    "HTML(p[0])"
   ],
   "outputs": [
    {
     "output_type": "execute_result",
     "data": {
      "text/html": [
       "<center><iframe height=\"600\" id=\"igraph\" scrolling=\"no\" seamless=\"seamless\"\n",
       "\t\t\t\tsrc=\"https://plotly.com/~rmdk/111/survival-vs-time/\" width=\"750\" frameBorder=\"0\"></iframe></center>"
      ],
      "text/plain": [
       "<IPython.core.display.HTML object>"
      ]
     },
     "metadata": {},
     "execution_count": 14
    }
   ],
   "metadata": {}
  },
  {
   "cell_type": "markdown",
   "source": [
    "The `y axis` represents the probability a patient is still alive at time $t$ weeks. We see a steep drop off within the first 100 weeks, and then observe the curve flattening. The dotted lines represent the 95% confidence intervals."
   ],
   "metadata": {}
  },
  {
   "cell_type": "markdown",
   "source": [
    "### Using Python"
   ],
   "metadata": {}
  },
  {
   "cell_type": "markdown",
   "source": [
    "We will now replicate the above steps using python. Above, we have already specified a variable `tongues` that holds the data in a pandas dataframe."
   ],
   "metadata": {}
  },
  {
   "cell_type": "code",
   "execution_count": 15,
   "source": [
    "from lifelines.estimation import KaplanMeierFitter\n",
    "kmf = KaplanMeierFitter()"
   ],
   "outputs": [],
   "metadata": {
    "collapsed": true
   }
  },
  {
   "cell_type": "markdown",
   "source": [
    "The method takes the same parameters as it's R counterpart, a time vector and a vector indicating which observations are observed or censored. The model fitting sequence is similar to the [scikit-learn](http://scikit-learn.org/stable/) api."
   ],
   "metadata": {}
  },
  {
   "cell_type": "code",
   "execution_count": 16,
   "source": [
    "f = tongue.type==1\n",
    "T = tongue[f]['time']\n",
    "C = tongue[f]['delta']\n",
    "\n",
    "kmf.fit(T, event_observed=C)"
   ],
   "outputs": [
    {
     "output_type": "execute_result",
     "data": {
      "text/plain": [
       "<lifelines.KaplanMeierFitter: fitted with 52 observations, 21 censored>"
      ]
     },
     "metadata": {},
     "execution_count": 16
    }
   ],
   "metadata": {}
  },
  {
   "cell_type": "markdown",
   "source": [
    "To get a plot with the confidence intervals, we simply can call `plot()` on our `kmf` object."
   ],
   "metadata": {}
  },
  {
   "cell_type": "code",
   "execution_count": 17,
   "source": [
    "kmf.plot(title='Tumor DNA Profile 1')"
   ],
   "outputs": [
    {
     "output_type": "execute_result",
     "data": {
      "text/plain": [
       "<matplotlib.axes._subplots.AxesSubplot at 0x10cff2e10>"
      ]
     },
     "metadata": {},
     "execution_count": 17
    },
    {
     "output_type": "display_data",
     "data": {
      "image/png": "[encoded data removed]",
      "text/plain": [
       "<matplotlib.figure.Figure at 0x111d16e50>"
      ]
     },
     "metadata": {}
    }
   ],
   "metadata": {
    "scrolled": true
   }
  },
  {
   "cell_type": "markdown",
   "source": [
    "Now we can convert this plot to an interactive [Plotly](https://plotly.com) object. However, we will have to augment the legend and filled area manually. Once we create a helper function, the process is simple.\n",
    "\n",
    "Please see the Plotly Python [user guide](https://plotly.com/python/overview/#in-%5B37%5D) for more insight on how to update plot parameters. \n",
    "\n",
    "> Don't forget you can also easily edit the chart properties using the Plotly GUI interface by clicking the \"Play with this data!\" link below the chart."
   ],
   "metadata": {}
  },
  {
   "cell_type": "code",
   "execution_count": 19,
   "source": [
    "p = kmf.plot(ci_force_lines=True, title='Tumor DNA Profile 1 (95% CI)')\n",
    "\n",
    "# Collect the plot object\n",
    "kmf1 = plt.gcf() \n",
    "\n",
    "def pyplot(fig, ci=True, legend=True):\n",
    "    # Convert mpl fig obj to plotly fig obj, resize to plotly's default\n",
    "    py_fig = tls.mpl_to_plotly(fig, resize=True)\n",
    "    \n",
    "    # Add fill property to lower limit line\n",
    "    if ci == True:\n",
    "        style1 = dict(fill='tonexty')\n",
    "        # apply style\n",
    "        py_fig['data'][2].update(style1)\n",
    "        \n",
    "        # Change color scheme to black\n",
    "        py_fig['data'].update(dict(line=Line(color='black')))\n",
    "    \n",
    "    # change the default line type to 'step'\n",
    "    py_fig['data'].update(dict(line=Line(shape='hv')))\n",
    "    # Delete misplaced legend annotations \n",
    "    py_fig['layout'].pop('annotations', None)\n",
    "    \n",
    "    if legend == True:\n",
    "        # Add legend, place it at the top right corner of the plot\n",
    "        py_fig['layout'].update(\n",
    "            showlegend=True,\n",
    "            legend=Legend(\n",
    "                x=1.05,\n",
    "                y=1\n",
    "            )\n",
    "        )\n",
    "        \n",
    "    # Send updated figure object to Plotly, show result in notebook\n",
    "    return py.iplot(py_fig)\n",
    "\n",
    "pyplot(kmf1, legend=False)"
   ],
   "outputs": [
    {
     "output_type": "execute_result",
     "data": {
      "text/html": [
       "<iframe id=\"igraph\" scrolling=\"no\" style=\"border:none;\"seamless=\"seamless\" src=\"https://plotly.com/~rmdk/407.embed\" height=\"525\" width=\"100%\"></iframe>"
      ],
      "text/plain": [
       "<plotly.tools.PlotlyDisplay object>"
      ]
     },
     "metadata": {},
     "execution_count": 19
    }
   ],
   "metadata": {}
  },
  {
   "cell_type": "markdown",
   "source": [
    "<hr>\n",
    "# Multiple Types\n",
    "\n",
    "### Using R"
   ],
   "metadata": {}
  },
  {
   "cell_type": "markdown",
   "source": [
    "Many times there are different groups contained in a single dataset. These may represent categories such as treatment groups, different species, or different manufacturing techniques. The `type` variable in the `tongues` dataset describes a patients DNA profile. Below we define a Kaplan-Meier estimate for each of these groups in R and Python."
   ],
   "metadata": {}
  },
  {
   "cell_type": "code",
   "execution_count": 19,
   "source": [
    "%%R\n",
    "\n",
    "surv.fit2 <- survfit( Surv(time, delta) ~ type)\n",
    "\n",
    "p <- ggsurv(surv.fit2) + \n",
    "        ggtitle('Lifespans of different tumor DNA profile') + theme_bw()\n",
    "p"
   ],
   "outputs": [
    {
     "output_type": "display_data",
     "data": {
      "image/png": "[encoded data removed]"
     },
     "metadata": {}
    }
   ],
   "metadata": {}
  },
  {
   "cell_type": "markdown",
   "source": [
    "Convert to a Plotly object."
   ],
   "metadata": {}
  },
  {
   "cell_type": "code",
   "execution_count": 20,
   "source": [
    "#%R ggplotly(plt)\n",
    "\n",
    "%R p <- plot.ly(\"https://plotly.com/~rmdk/173/lifespans-of-different-tumor-dna-profile/\")\n",
    "# pass object to python kernel\n",
    "%R -o p \n",
    "\n",
    "# Render HTML\n",
    "HTML(p[0])"
   ],
   "outputs": [
    {
     "output_type": "execute_result",
     "data": {
      "text/html": [
       "<center><iframe height=\"600\" id=\"igraph\" scrolling=\"no\" seamless=\"seamless\"\n",
       "\t\t\t\tsrc=\"https://plotly.com/~rmdk/173/lifespans-of-different-tumor-dna-profile/\" width=\"750\" frameBorder=\"0\"></iframe></center>"
      ],
      "text/plain": [
       "<IPython.core.display.HTML object>"
      ]
     },
     "metadata": {},
     "execution_count": 20
    }
   ],
   "metadata": {}
  },
  {
   "cell_type": "markdown",
   "source": [
    "### Using Python"
   ],
   "metadata": {}
  },
  {
   "cell_type": "code",
   "execution_count": 21,
   "source": [
    "f2 = tongue.type==2\n",
    "T2 = tongue[f2]['time']\n",
    "C2 = tongue[f2]['delta']\n",
    "\n",
    "ax = plt.subplot(111)\n",
    "\n",
    "kmf.fit(T, event_observed=C, label=['Type 1 DNA'])\n",
    "kmf.survival_function_.plot(ax=ax)\n",
    "kmf.fit(T2, event_observed=C2, label=['Type 2 DNA'])\n",
    "kmf.survival_function_.plot(ax=ax)\n",
    "\n",
    "plt.title('Lifespans of different tumor DNA profile')\n",
    "\n",
    "kmf2 = plt.gcf()"
   ],
   "outputs": [
    {
     "output_type": "display_data",
     "data": {
      "image/png": "[encoded data removed]",
      "text/plain": [
       "<matplotlib.figure.Figure at 0x111cd6ed0>"
      ]
     },
     "metadata": {}
    }
   ],
   "metadata": {}
  },
  {
   "cell_type": "markdown",
   "source": [
    "Convert to a Plotly object."
   ],
   "metadata": {}
  },
  {
   "cell_type": "code",
   "execution_count": 25,
   "source": [
    "pyplot(kmf2, ci=False)"
   ],
   "outputs": [
    {
     "output_type": "execute_result",
     "data": {
      "text/html": [
       "<iframe id=\"igraph\" scrolling=\"no\" style=\"border:none;\"seamless=\"seamless\" src=\"https://plotly.com/~rmdk/404.embed\" height=\"525\" width=\"100%\"></iframe>"
      ],
      "text/plain": [
       "<plotly.tools.PlotlyDisplay object>"
      ]
     },
     "metadata": {},
     "execution_count": 25
    }
   ],
   "metadata": {}
  },
  {
   "cell_type": "markdown",
   "source": [
    "<hr>\n",
    "# Testing for Difference"
   ],
   "metadata": {}
  },
  {
   "cell_type": "markdown",
   "source": [
    "It looks like DNA Type 2 is potentially more deadly, or more difficult to treat compared to Type 1. However, the difference between these survival curves still does not seem dramatic. It will be useful to perform a statistical test on the different DNA profiles to see if their survival rates are significantly different.\n",
    "\n",
    "Python's *lifelines* contains methods in `lifelines.statistics`, and the R package `survival` uses a function `survdiff()`. Both functions return a p-value from a chi-squared distribution.\n",
    "\n",
    "It turns out these two DNA types do not have significantly different survival rates."
   ],
   "metadata": {}
  },
  {
   "cell_type": "markdown",
   "source": [
    "### Using R"
   ],
   "metadata": {}
  },
  {
   "cell_type": "code",
   "execution_count": 31,
   "source": [
    "%%R \n",
    "survdiff(Surv(time, delta) ~ type)"
   ],
   "outputs": [
    {
     "output_type": "display_data",
     "data": {
      "text/plain": [
       "Call:\n",
       "survdiff(formula = Surv(time, delta) ~ type)\n",
       "\n",
       "        N Observed Expected (O-E)^2/E (O-E)^2/V\n",
       "type=1 52       31     36.6     0.843      2.79\n",
       "type=2 28       22     16.4     1.873      2.79\n",
       "\n",
       " Chisq= 2.8  on 1 degrees of freedom, p= 0.0949 \n"
      ]
     },
     "metadata": {}
    }
   ],
   "metadata": {}
  },
  {
   "cell_type": "markdown",
   "source": [
    "### Using Python"
   ],
   "metadata": {}
  },
  {
   "cell_type": "code",
   "execution_count": 32,
   "source": [
    "from lifelines.statistics import logrank_test\n",
    "summary_= logrank_test(T, T2, C, C2, alpha=99)\n",
    "\n",
    "print summary_"
   ],
   "outputs": [
    {
     "output_type": "stream",
     "name": "stdout",
     "text": [
      "<lifelines.StatisticalResult: \n",
      "Results\n",
      "   df: 1\n",
      "   alpha: 99\n",
      "   t 0: -1\n",
      "   test: logrank\n",
      "   null distribution: chi squared\n",
      "\n",
      "   __ p-value ___|__ test statistic __|____ test result ____|__ is significant __\n",
      "         0.09487 |              2.790 |  Cannot Reject Null |       False       \n",
      ">\n"
     ]
    }
   ],
   "metadata": {}
  },
  {
   "cell_type": "markdown",
   "source": [
    "<hr>\n",
    "# Estimating Hazard Rates\n",
    "\n",
    "### Using R"
   ],
   "metadata": {}
  },
  {
   "cell_type": "markdown",
   "source": [
    "To estimate the hazard function, we compute the cumulative hazard function using the [Nelson-Aalen estimator](), defined as:\n",
    "\n",
    "$$\\hat{\\Lambda} (t) = \\sum_{t_i \\leq t} \\frac{d_i}{n_i}$$\n",
    "\n",
    "where $d_i$ is the number of deaths at time $t_i$ and $n_i$ is the number of susceptible individuals. Both R and Python modules use the same estimator. However, in R we will use the `-log` of the Fleming and Harrington estimator, which is equivalent to the Nelson-Aalen."
   ],
   "metadata": {}
  },
  {
   "cell_type": "code",
   "execution_count": 33,
   "source": [
    "%%R  \n",
    "\n",
    "haz <- Surv(time[type==1], delta[type==1])\n",
    "haz.fit  <- summary(survfit(haz ~ 1), type='fh')\n",
    "\n",
    "x <- c(haz.fit$time, 250)\n",
    "y <- c(-log(haz.fit$surv), 1.474)\n",
    "cum.haz <- data.frame(time=x, cumulative.hazard=y)\n",
    "\n",
    "p <- ggplot(cum.haz, aes(time, cumulative.hazard)) + geom_step() + theme_bw() + \n",
    "        ggtitle('Nelson-Aalen Estimate')\n",
    "p"
   ],
   "outputs": [
    {
     "output_type": "display_data",
     "data": {
      "image/png": "[encoded data removed]"
     },
     "metadata": {}
    }
   ],
   "metadata": {}
  },
  {
   "cell_type": "code",
   "execution_count": 23,
   "source": [
    "%R p <- plot.ly(\"https://plotly.com/~rmdk/185/cumulativehazard-vs-time/\")\n",
    "# pass object to python kernel\n",
    "%R -o p \n",
    "\n",
    "# Render HTML\n",
    "HTML(p[0])"
   ],
   "outputs": [
    {
     "output_type": "execute_result",
     "data": {
      "text/html": [
       "<center><iframe height=\"600\" id=\"igraph\" scrolling=\"no\" seamless=\"seamless\"\n",
       "\t\t\t\tsrc=\"https://plotly.com/~rmdk/185/cumulativehazard-vs-time/\" width=\"750\" frameBorder=\"0\"></iframe></center>"
      ],
      "text/plain": [
       "<IPython.core.display.HTML object>"
      ]
     },
     "metadata": {},
     "execution_count": 23
    }
   ],
   "metadata": {}
  },
  {
   "cell_type": "markdown",
   "source": [
    "### Using Python"
   ],
   "metadata": {}
  },
  {
   "cell_type": "code",
   "execution_count": 26,
   "source": [
    "from lifelines.estimation import NelsonAalenFitter\n",
    "\n",
    "naf = NelsonAalenFitter()\n",
    "naf.fit(T, event_observed=C)\n",
    "\n",
    "naf.plot(title='Nelson-Aalen Estimate')"
   ],
   "outputs": [
    {
     "output_type": "execute_result",
     "data": {
      "text/plain": [
       "<matplotlib.axes._subplots.AxesSubplot at 0x1131833d0>"
      ]
     },
     "metadata": {},
     "execution_count": 26
    },
    {
     "output_type": "display_data",
     "data": {
      "image/png": "[encoded data removed]",
      "text/plain": [
       "<matplotlib.figure.Figure at 0x1130a6f10>"
      ]
     },
     "metadata": {}
    }
   ],
   "metadata": {
    "scrolled": true
   }
  },
  {
   "cell_type": "code",
   "execution_count": 27,
   "source": [
    "naf.plot(ci_force_lines=True, title='Nelson-Aalen Estimate')\n",
    "py_p = plt.gcf()\n",
    "\n",
    "pyplot(py_p, legend=False)"
   ],
   "outputs": [
    {
     "output_type": "execute_result",
     "data": {
      "text/html": [
       "<iframe id=\"igraph\" scrolling=\"no\" style=\"border:none;\"seamless=\"seamless\" src=\"https://plotly.com/~rmdk/405.embed\" height=\"525\" width=\"100%\"></iframe>"
      ],
      "text/plain": [
       "<plotly.tools.PlotlyDisplay object>"
      ]
     },
     "metadata": {},
     "execution_count": 27
    }
   ],
   "metadata": {}
  },
  {
   "cell_type": "code",
   "execution_count": 1,
   "source": [
    "from IPython.display import display, HTML\n",
    "\n",
    "display(HTML('<link href=\"//fonts.googleapis.com/css?family=Open+Sans:600,400,300,200|Inconsolata|Ubuntu+Mono:400,700\" rel=\"stylesheet\" type=\"text/css\" />'))\n",
    "display(HTML('<link rel=\"stylesheet\" type=\"text/css\" href=\"http://help.plot.ly/documentation/all_static/css/ipython-notebook-custom.css\">'))\n",
    "\n",
    "! pip install publisher --upgrade\n",
    "import publisher\n",
    "publisher.publish(\n",
    "    'survival_analysis.ipynb', 'ipython-notebooks/survival-analysis-r-vs-python/',\n",
    "    'Survival Analysis with Plotly: R vs Python', \n",
    "    'An introduction to survival analysis with Plotly graphs using R, Python, and IPython notebooks',\n",
    "    name='Survival Analysis with Plotly')"
   ],
   "outputs": [
    {
     "output_type": "display_data",
     "data": {
      "text/html": [
       "<link href=\"//fonts.googleapis.com/css?family=Open+Sans:600,400,300,200|Inconsolata|Ubuntu+Mono:400,700\" rel=\"stylesheet\" type=\"text/css\" />"
      ],
      "text/plain": [
       "<IPython.core.display.HTML object>"
      ]
     },
     "metadata": {}
    },
    {
     "output_type": "display_data",
     "data": {
      "text/html": [
       "<link rel=\"stylesheet\" type=\"text/css\" href=\"http://help.plot.ly/documentation/all_static/css/ipython-notebook-custom.css\">"
      ],
      "text/plain": [
       "<IPython.core.display.HTML object>"
      ]
     },
     "metadata": {}
    },
    {
     "output_type": "stream",
     "name": "stdout",
     "text": [
      "Requirement already up-to-date: publisher in /Users/chelsea/venv/venv2.7/lib/python2.7/site-packages\r\n"
     ]
    },
    {
     "output_type": "stream",
     "name": "stderr",
     "text": [
      "/Users/chelsea/venv/venv2.7/lib/python2.7/site-packages/IPython/nbconvert.py:13: ShimWarning: The `IPython.nbconvert` package has been deprecated since IPython 4.0. You should import from nbconvert instead.\n",
      "  \"You should import from nbconvert instead.\", ShimWarning)\n",
      "/Users/chelsea/venv/venv2.7/lib/python2.7/site-packages/publisher/publisher.py:53: UserWarning: Did you \"Save\" this notebook before running this command? Remember to save, always save.\n",
      "  warnings.warn('Did you \"Save\" this notebook before running this command? '\n"
     ]
    }
   ],
   "metadata": {}
  },
  {
   "cell_type": "code",
   "execution_count": null,
   "source": [],
   "outputs": [],
   "metadata": {
    "collapsed": true
   }
  }
 ],
 "metadata": {
  "kernelspec": {
   "display_name": "Python 2",
   "language": "python",
   "name": "python2"
  },
  "language_info": {
   "codemirror_mode": {
    "name": "ipython",
    "version": 2
   },
   "file_extension": ".py",
   "mimetype": "text/x-python",
   "name": "python",
   "nbconvert_exporter": "python",
   "pygments_lexer": "ipython2",
   "version": "2.7.10"
  }
 },
 "nbformat": 4,
 "nbformat_minor": 1
}